{
 "cells": [
  {
   "cell_type": "markdown",
   "metadata": {},
   "source": [
    "<div\n",
    "    style='background-image: url(\"FIGURES/TU_Delft_logo.png\"); padding: 0px;\n",
    "    background-size: 25%; border-radius: 0px; height: 165px;\n",
    "    background-repeat: no-repeat; background-position: right bottom'>\n",
    "    <div\n",
    "    style=\"float: left; margin: 0px; padding: 0px;\n",
    "    background: rgba(255 , 255 , 255 , 0.0); width: 100%; height: 180px;\n",
    "    border-radius: 10px\">\n",
    "    <div\n",
    "        style=\"position: relative; top: 50%;\n",
    "        transform: translatey(-50%)\">\n",
    "        <div\n",
    "            style=\"font-size: xx-large; font-weight: 900; color: rgba(0 , 0 , 0 , 1.0); line-height: 100%\">\n",
    "            Arbitrary plane waves \n",
    "        </div>\n",
    "        <div\n",
    "            style=\"font-size: x-large; padding-top: 40px; color: rgba(0 , 0 , 0 , 1.0)\">\n",
    "        <p>Jupyter notebook explanation\n",
    "        </div>\n",
    "        <div\n",
    "            style=\"font-size: large; padding-top: 20px; color: rgba(0 , 0 , 0 , 1.0)\">\n",
    "            Physics for Geosystem (AESM1325) -- MSc GeoEnergy Engineering ($1^{st}$ year)<br> \n",
    "            <em>Cornelis Weemstra</em>, CEG, TU Delft\n",
    "        </div>\n",
    "   </div>\n",
    "\n",
    "</div>\n"
   ]
  },
  {
   "cell_type": "markdown",
   "metadata": {},
   "source": [
    "# Plane waves\n",
    "\n",
    "By considering so-called *plane waves*, details of the seismic source are avoided. The assumption of an incident plane wave may be quite good in practice for investigating waves at great distances from their source (Figure 1).\n",
    "<br>     \n",
    "<figure>\n",
    "  <img src=\"./FIGURES/plane_vs_non_plane_wave.png\"  width=50%>\n",
    "  <figcaption><br>Figure 1: <i>(a) If the point P on some boundary within the Earth is sufficiently far from the localized source of waves under study, then wavefronts arriving at P may effectively be treated as incoming plane waves. (b) If Q is sufficiently close to the source, then curvature of the wavefronts at Q may have to be taken into account. Note that by \"sufficiently far\" and \"sufficiently close\" we refer to the number of wavelengths between the point of interest (P or Q) and the source. Thus, even for the source receiver geometry in (b), it may be possible to use plane wave theory for the very high frequencies (adopted from Aki & Richards, 2002).</i></figcaption>\n",
    "</figure><br>\n",
    "\n",
    "A physical quantity (e.g., particle displacement or a stress component) propagates as a plane wave in direction $\\mathbf{l}$ with speed $c$ if \n",
    "<ol>\n",
    "    <li>at a fixed time, the quantity is spatially unchanged over each plane normal to the vector $\\mathbf{l}$, and if</li>\n",
    "\t<li>the plane associated with a particular value of the quantity moves with speed $c$ in direction $\\mathbf{l}$.</li>\n",
    "</ol>\n",
    "Physical quantities propagating with these two properties must have a functional dependence on space and time via the combination $t -\\left(\\hat{\\mathbf{l}} \\cdot \\mathbf{x} \\right)/c$. We call $\\hat{\\mathbf{l}}/c$ the *slowness vector*, which we denote by $\\mathbf{s}$ (i.e., $\\mathbf{s} \\equiv \\hat{\\mathbf{l}}/c$). An advantage of using slowness (rather than velocity) to summarize the speed and direction of propagation of a wave is that slownesses may be added vectorially (but velocities, in this context, may not). The slowness of a given wave is hence the vectorial sum of its components $s_1$, $s_2$, and $s_3$ along each coordinate direction: $\\mathbf{s} = s_1 \\hat{\\mathbf{x}}_1 +  s_2 \\hat{\\mathbf{x}}_2 + s_3 \\hat{\\mathbf{x}}_3$ and the slowness in direction $\\mathbf{n}$ is simply $\\mathbf{s} \\cdot \\mathbf{n}$. \n",
    "\n",
    "Because this explanation is generally found to be rather abstract, you can below plot a plane wave in 2D space as a function of time and slowness. This will make this theory a bit more hands-on. Two example \"wavelets\" are implemented. A simple cosine and the widely used Ricker wavelet. There is no need to understand the details of the Ricker wavelet, as it just serves to exemplify the behavior of a plane wave. \n",
    "\n",
    "\n",
    "\n",
    "**References**\n",
    "\n",
    "Aki, K., & Richards, P. G. (2002). Quantitative Seismology (second edition). Sausalito, California: University Science Books.\n"
   ]
  },
  {
   "cell_type": "markdown",
   "metadata": {},
   "source": [
    "# Start of the code"
   ]
  },
  {
   "cell_type": "code",
   "execution_count": 16,
   "metadata": {
    "ExecuteTime": {
     "end_time": "2020-12-10T12:06:13.220529Z",
     "start_time": "2020-12-10T12:06:12.682474Z"
    },
    "code_folding": []
   },
   "outputs": [],
   "source": [
    "#import all modules\n",
    "import numpy as np\n",
    "%matplotlib inline\n",
    "import matplotlib.pyplot as plt\n",
    "import math \n",
    "from ipywidgets import interact, widgets\n",
    "from IPython.display import display\n",
    "import warnings"
   ]
  },
  {
   "cell_type": "markdown",
   "metadata": {},
   "source": [
    "## Parameters"
   ]
  },
  {
   "cell_type": "code",
   "execution_count": 17,
   "metadata": {
    "ExecuteTime": {
     "end_time": "2020-12-10T12:06:13.769597Z",
     "start_time": "2020-12-10T12:06:13.762189Z"
    },
    "code_folding": []
   },
   "outputs": [],
   "source": [
    "##### PARAMETERS IN THE ARGUMENT OF THE PLANE WAVE (t-s·x)\n",
    "# Velocity (m/s)\n",
    "c = 1000. \n",
    "# angle indicating direction of propagation of the plane wave with respect to North\n",
    "azi = 240      \n",
    "# Time (seconds)\n",
    "t=-0.2\n",
    "\n",
    "\n",
    "##### GENERAL AND DERIVED PARAMETERS \n",
    "\n",
    "# time sampling (seconds)\n",
    "dt= 0.002       \n",
    "# Frequency (or Central frequency) (Hz)\n",
    "f = 10\n",
    "# samples per wavelenght\n",
    "spwl = 50\n",
    "# space sampling (meters)\n",
    "dx = c/f/spwl"
   ]
  },
  {
   "cell_type": "markdown",
   "metadata": {},
   "source": [
    "## Source wavelets (functions)"
   ]
  },
  {
   "cell_type": "code",
   "execution_count": 18,
   "metadata": {
    "ExecuteTime": {
     "end_time": "2020-12-10T12:06:14.713499Z",
     "start_time": "2020-12-10T12:06:14.702357Z"
    },
    "code_folding": []
   },
   "outputs": [],
   "source": [
    "#functions\n",
    "def ricker(f, t):\n",
    "    y = (1.-2.*(np.pi**2)*(f**2)*(t**2))*np.exp(-(np.pi**2)*(f**2)*(t**2))\n",
    "    return y\n",
    "\n",
    "def cos(f, t):\n",
    "    y = math.cos(2*np.pi*f*t)\n",
    "    return y\n"
   ]
  },
  {
   "cell_type": "markdown",
   "metadata": {},
   "source": [
    "## Plot a source wavelet"
   ]
  },
  {
   "cell_type": "code",
   "execution_count": 19,
   "metadata": {
    "ExecuteTime": {
     "end_time": "2020-12-10T12:06:15.804050Z",
     "start_time": "2020-12-10T12:06:15.625785Z"
    },
    "code_folding": []
   },
   "outputs": [
    {
     "data": {
      "image/png": "[encoded data removed]",
      "text/plain": [
       "<Figure size 600x300 with 1 Axes>"
      ]
     },
     "metadata": {
      "needs_background": "light"
     },
     "output_type": "display_data"
    }
   ],
   "source": [
    "#define wavelet\n",
    "t_vec = np.linspace(-2*(1/f), 2*(1/f), np.int64(4*(1/f)/dt)+1)\n",
    "u_vec = np.zeros(np.int64(4*(1/f)/dt)+1)\n",
    "\n",
    "for i in range(len(t_vec)):\n",
    "    u_vec[i]=ricker(f,t_vec[i])\n",
    "    \n",
    "    \n",
    "plt.rcParams[\"font.family\"] = \"serif\"\n",
    "plt.rcParams[\"font.size\"] = 10\n",
    "\n",
    "fig = plt.figure(figsize=[2,1.0],dpi = 300,constrained_layout=False)\n",
    "gs  = fig.add_gridspec(1, 1)\n",
    "\n",
    "ax1 = fig.add_subplot(gs[0,0])\n",
    "ax1.set_xlim(-2*(1/f),2*(1/f))\n",
    "ax1.spines['right'].set_visible(False)\n",
    "ax1.spines['top'].set_visible(False)\n",
    "ax1.set_xlabel('time [s]')\n",
    "ax1.set_ylabel('u [m]')\n",
    "plt.plot(t_vec,u_vec,'-',linewidth=1,color='black')\n",
    "\n",
    "plt.show()  \n",
    "    "
   ]
  },
  {
   "cell_type": "code",
   "execution_count": 20,
   "metadata": {
    "ExecuteTime": {
     "end_time": "2020-12-10T12:06:18.078533Z",
     "start_time": "2020-12-10T12:06:16.321854Z"
    },
    "code_folding": []
   },
   "outputs": [
    {
     "data": {
      "image/png": "[encoded data removed]",
      "text/plain": [
       "<Figure size 300x300 with 2 Axes>"
      ]
     },
     "metadata": {
      "needs_background": "light"
     },
     "output_type": "display_data"
    }
   ],
   "source": [
    "# Computation of 2D slowness vector\n",
    "s=[math.sin(math.radians(azi))/c,math.cos(math.radians(azi))/c]\n",
    "#print(s[0],s[1])\n",
    "\n",
    "\n",
    "# Compute wavefield as function of t, s1, and s2  (t-s·x)\n",
    "# being time, slowness component 1, and slowness component 2, respectively\n",
    "x_vec = np.linspace(-5*spwl*dx, 5*spwl*dx, 10*spwl + 1)\n",
    "u_arr = np.zeros((np.int64(10*spwl+1) , np.int64(10*spwl+1))) \n",
    "\n",
    "for i in range(len(x_vec)):\n",
    "    dum = t - x_vec[i]*s[0]\n",
    "    for j in range(len(x_vec)):\n",
    "        u_arr[j,i] = ricker(f,dum-x_vec[j]*s[1])\n",
    "        #print(i,j,x_vec[i],x_vec[j],u_arr[i,j])\n",
    "\n",
    "fig = plt.figure(figsize=[3,3],dpi = 100,constrained_layout=True)\n",
    "ax_neu = fig.add_subplot(111) \n",
    "img = ax_neu.imshow(u_arr,cmap=\"seismic\",origin='lower',extent=[-5*spwl*dx,5*spwl*dx,-5*spwl*dx,5*spwl*dx])\n",
    "fig.colorbar(img,shrink=0.75,orientation = 'horizontal')\n",
    "ax_neu.set_xlabel('x1 [m]')\n",
    "ax_neu.set_ylabel('x2 [m]')\n",
    "ax_neu.set_title('$u$')\n",
    "plt.show()\n",
    "    "
   ]
  },
  {
   "cell_type": "code",
   "execution_count": 21,
   "metadata": {
    "ExecuteTime": {
     "end_time": "2020-12-10T12:08:44.234390Z",
     "start_time": "2020-12-10T12:08:39.879914Z"
    },
    "code_folding": []
   },
   "outputs": [
    {
     "data": {
      "application/vnd.jupyter.widget-view+json": {
       "model_id": "3eabfce3a26a49f0a197f18d1d824236",
       "version_major": 2,
       "version_minor": 0
      },
      "text/plain": [
       "interactive(children=(IntSlider(value=1, description='Azimuth', max=360, step=10), IntSlider(value=2000, descr…"
      ]
     },
     "metadata": {},
     "output_type": "display_data"
    }
   ],
   "source": [
    "#Interactive version\n",
    "def wavefield(azi,c,t):\n",
    "    dx=c/f/spwl\n",
    "    s=[math.sin(math.radians(azi))/c,math.cos(math.radians(azi))/c]\n",
    "    x_vec = np.linspace(-5*spwl*dx, 5*spwl*dx, 10*spwl + 1)\n",
    "    u_arr = np.zeros((np.int64(10*spwl+1) , np.int64(10*spwl+1))) \n",
    "\n",
    "    for i in range(len(x_vec)):\n",
    "        dum = t - x_vec[i]*s[0]\n",
    "        for j in range(len(x_vec)):\n",
    "            u_arr[j,i] = ricker(f,dum-x_vec[j]*s[1])\n",
    "            \n",
    "    img = ax_neu.imshow(u_arr,cmap=\"seismic\",origin='lower',extent=[-5*spwl*dx,5*spwl*dx,-5*spwl*dx,5*spwl*dx])\n",
    "    #fig.colorbar(img,shrink=0.75,orientation = 'horizontal')\n",
    "    ax_neu.set_xlim(-500,500)\n",
    "    ax_neu.set_ylim(-500,500)\n",
    "    ax_neu.set_xlabel('x1 [m]')\n",
    "    ax_neu.set_ylabel('x2 [m]')\n",
    "    ax_neu.set_title('$u$')\n",
    "    fig.canvas.draw()\n",
    "    fig.set_size_inches(6, 6)\n",
    "    display(fig)\n",
    "\n",
    "    \n",
    "widgets.interact(wavefield, \n",
    "         azi=widgets.IntSlider(min=0,max=360,step=10,value=1.,description='Azimuth'),\n",
    "         c=widgets.IntSlider(min=2000,max=3000,step=200.,value=1.,description='velocity (m/s)'),\n",
    "         t=widgets.FloatSlider(min=-0.4,max=0.4,step=.025,value=1.,description='time(s)'));\n"
   ]
  },
  {
   "cell_type": "code",
   "execution_count": null,
   "metadata": {},
   "outputs": [],
   "source": []
  },
  {
   "cell_type": "code",
   "execution_count": null,
   "metadata": {},
   "outputs": [],
   "source": []
  }
 ],
 "metadata": {
  "kernelspec": {
   "display_name": "Python 3 (ipykernel)",
   "language": "python",
   "name": "python3"
  },
  "language_info": {
   "codemirror_mode": {
    "name": "ipython",
    "version": 3
   },
   "file_extension": ".py",
   "mimetype": "text/x-python",
   "name": "python",
   "nbconvert_exporter": "python",
   "pygments_lexer": "ipython3",
   "version": "3.9.7"
  },
  "varInspector": {
   "cols": {
    "lenName": 16,
    "lenType": 16,
    "lenVar": 40
   },
   "kernels_config": {
    "python": {
     "delete_cmd_postfix": "",
     "delete_cmd_prefix": "del ",
     "library": "var_list.py",
     "varRefreshCmd": "print(var_dic_list())"
    },
    "r": {
     "delete_cmd_postfix": ") ",
     "delete_cmd_prefix": "rm(",
     "library": "var_list.r",
     "varRefreshCmd": "cat(var_dic_list()) "
    }
   },
   "types_to_exclude": [
    "module",
    "function",
    "builtin_function_or_method",
    "instance",
    "_Feature"
   ],
   "window_display": false
  }
 },
 "nbformat": 4,
 "nbformat_minor": 2
}
